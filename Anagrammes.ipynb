{
 "cells": [
  {
   "cell_type": "markdown",
   "id": "fae0ccb9",
   "metadata": {},
   "source": [
    "### Vérifier si 2 mots sont des anagrammes\n",
    "\n",
    "La syntaxe et les fonctions builtins de Python facilitent grandement cette partie-là, qui aurait sans doute été plus complexe à résoudre dans d'autres langages.\n",
    "\n",
    "On part du principe qu'__un mot est représenté par une chaîne de caractères constituée de caractères allant de \"a\" à \"z\"__. On ignore les majuscules pour que les lignes soient plus rapides à écrire et s'épargner l'usage systématique de la fonction lower() qui transforme tous les caractères majuscules d'une chaîne en miniscule."
   ]
  },
  {
   "cell_type": "code",
   "execution_count": 1,
   "id": "b7f4b62a",
   "metadata": {},
   "outputs": [
    {
     "name": "stdout",
     "output_type": "stream",
     "text": [
      "True\n"
     ]
    }
   ],
   "source": [
    "# Vérifier que 2 chaînes de caractères sont des anagrammes\n",
    "a, b = \"niche\", \"chien\"\n",
    "print(sorted(a) == sorted(b))"
   ]
  },
  {
   "cell_type": "markdown",
   "id": "f921be83",
   "metadata": {},
   "source": [
    "En Python, l'opérateur __==__ suffit à vérifier l'égalité entre 2 chaînes. Quant à la fonction __sorted__, elle sert à trier dans l'ordre alphabétique tous les caractères d'une chaîne, ce qui permet dans l'exemple ci-dessus de comparer \"niche\"->\"cehin\" à \"chien\"->\"cehin\""
   ]
  },
  {
   "cell_type": "markdown",
   "id": "3da94338",
   "metadata": {},
   "source": [
    "### Énumération des anagrammes possibles\n",
    "\n",
    "#### Combien d'anagrammes sont possibles ?\n",
    "\n",
    "Partons des cas basiques avec un petit nombres de caractères tous uniques, et d'énumérer les combinaisons possibles.\n",
    "\n",
    "2 caractères, \"a\" et \"b\": => 2 combinaisons possibles\n",
    "- \"ab\"\n",
    "- \"ba\"\n",
    "\n",
    "3 caractères, \"a\", \"b\" et \"c\": => 6 combinaisons possibles\n",
    "- \"abc\"\n",
    "- \"acb\"\n",
    "- \"bac\"\n",
    "- \"bca\"\n",
    "- \"cab\"\n",
    "- \"cba\"\n",
    "\n",
    "4 caractères, \"a\", \"b\", \"c\" et \"d\": => 4x6 = 24 combinaisons possibles\n",
    "- \"<font color='#993333'>__d__</font>abc\", \"<font color='#993333'>__d__</font>acb\", \"<font color='#993333'>__d__</font>bac\", \"<font color='#993333'>__d__</font>bca\", \"<font color='#993333'>__d__</font>cab\", \"<font color='#993333'>__d__</font>cba\"\n",
    "- \"a<font color='#993333'>__d__</font>bc\", \"a<font color='#993333'>__d__</font>cb\", \"b<font color='#993333'>__d__</font>ac\", \"b<font color='#993333'>__d__</font>ca\", \"c<font color='#993333'>__d__</font>ab\", \"c<font color='#993333'>__d__</font>ba\"\n",
    "- \"ab<font color='#993333'>__d__</font>c\", \"ac<font color='#993333'>__d__</font>b\", \"ba<font color='#993333'>__d__</font>c\", \"bc<font color='#993333'>__d__</font>a\", \"ca<font color='#993333'>__d__</font>b\", \"cb<font color='#993333'>__d__</font>a\"\n",
    "- \"abc<font color='#993333'>__d__</font>\", \"acb<font color='#993333'>__d__</font>\", \"bac<font color='#993333'>__d__</font>\", \"bca<font color='#993333'>__d__</font>\", \"cab<font color='#993333'>__d__</font>\", \"cba<font color='#993333'>__d__</font>\"\n",
    "\n",
    "\n",
    "Dans cette énumération à 4 caractères, on peut regrouper les combinaisons par groupe de 6 car on commence à voir un cas récursif intéressant.\\\n",
    "On prend les combinaisons possibles avec \"abc\", puis on va essayer pour chacune de ces combinaisons d'ajouter \"d\" à chaque position possible dans une chaîne de 4 caractères.\n",
    "\n",
    "Cette récursivité va nous aider à comprendre 2 choses:\n",
    "- énumérer les combinaisons d'une chaîne à \"n\" caractères à partir de l'énumération des combinaisons possibles à n-1 caractères\n",
    "- le nombre de combinaisons correspond à la fonction factorielle: 4! combinaisons possibles pour 4 caractères différents\n",
    "\n",
    "#### Mais des caractères peuvent se répéter dans une chaîne\n",
    "\n",
    "En effet, la solution trouvée ci-dessus est parfaite lorsque les caractères de la chaîne sont uniques, mais les mots du dictionnaire utilisent souvent plusieurs fois la même lettre.\n",
    "\n",
    "Reprenons donc l'exemple à 4 caractères en remplaçant le \"d\" par un 2ème \"a\":\n",
    "- \"aabc\", \"aacb\", \"abac\", \"abca\", \"acab\", \"acba\"\n",
    "- ~~\"aabc\"~~, ~~\"aacb\"~~, \"baac\", \"baca\", \"caab\", \"caba\"\n",
    "- ~~\"abac\"~~, ~~\"acab\"~~, \"~~baac\"~~, \"bcaa\", ~~\"caab\"~~, \"cbaa\"\n",
    "- ~~\"abca\"~~, ~~\"acba\"~~, ~~\"baca\"~~, ~~\"bcaa\"~~, ~~\"caba\"~~, ~~\"cbaa\"~~\n",
    "\n",
    "En barrant tous les doublons, on voit qu'il nous reste 12 combinaisons, soit la moitié du résultat précédent.\n",
    "\n",
    "Et avec un 3ème \"a\", à la place de \"c\" par exemple:\n",
    "- __\"aaba\"__, __\"aaab\"__, __\"abaa\"__, ~~\"abaa\"~~, ~~\"aaab\"~~, ~~\"aaba\"~~\n",
    "- ~~\"aabc\"~~, ~~\"aacb\"~~, __\"baaa\"__, ~~\"baaa\"~~, ~~\"aaab\"~~, ~~\"aaba\"~~\n",
    "- ~~\"abac\"~~, ~~\"acab\"~~, \"~~baac\"~~, ~~\"baaa\"~~, ~~\"caab\"~~, ~~\"abaa\"~~\n",
    "- ~~\"abca\"~~, ~~\"acba\"~~, ~~\"baca\"~~, ~~\"bcaa\"~~, ~~\"caba\"~~, ~~\"cbaa\"~~\n",
    "\n",
    "Cette fois-ci, on voit qu'il nous reste 4 combinaisons, soit la 3x moins que résultat précédent, donc 6x moins qu'avec \"abcd\".\n",
    "\n",
    "Le cas générique pointe le bout de son nez. Un caractère répété __k__ fois dans une chaîne de __n__ caractères divise par __k!__ le nombre de combinaisons de caractères uniques qui est égal à __n!__.\n",
    "\n",
    "Cependant, plusieurs caractères peuvent apparaitre plusieurs fois. Par exemple, on pourrait avoir 2 \"b\" et 2 \"a\". Essayons donc d'énumérer les cas où \"a\" remplace \"d\" et \"b\" remplace \"c\":\n",
    "- \"aabb\", <font color='#CC0000'>~~\"aabb\"~~</font>, \"abab\", \"abba\", <font color='#CC0000'>~~\"abab\"~~</font>, <font color='#CC0000'>~~\"abba\"~~</font>\n",
    "- ~~\"aabb\"~~, ~~\"aabb\"~~, \"baab\", \"baba\", <font color='#CC0000'>~~\"baab\"~~</font>, <font color='#CC0000'>~~\"baba\"~~</font>\n",
    "- ~~\"abab\"~~, ~~\"abab\"~~, \"~~baab\"~~, \"bbaa\", ~~\"baab\"~~, <font color='#CC0000'>~~\"bbaa\"~~</font>\n",
    "- ~~\"abba\"~~, ~~\"abba\"~~, ~~\"baba\"~~, ~~\"bbaa\"~~, ~~\"baba\"~~, ~~\"bbaa\"~~\n",
    "\n",
    "En rouge les répétitions trouvées par rapport au précédent exemple avec \"aabc\".\\\n",
    "On trouve 6 combinaisons restantes, soit 2 fois moins qu'avec \"aabc\", soit 2x2 fois moins qu'avec \"abcd\".\\\n",
    "Là encore, un cas générique apparait. En reprenant la formule précédente, on peut déduire qu'une chaîne de __n__ caractères a un nombre de combinaisons égal à __n!__ divisé par __ka__, le nombre de répétition de a dans n, divisé par __kb__, le nombre de répétition de a dans n, etc...\n",
    "\n",
    "$$\\dfrac{n!}{ka!kb!...kz!}$$"
   ]
  },
  {
   "cell_type": "markdown",
   "id": "81f06b7c",
   "metadata": {},
   "source": [
    "#### Et en Python ?\n",
    "\n",
    "Pour appliquer la formule, nous avons besoin de la fonction factorielle qu'on va appeler __fac(n)__."
   ]
  },
  {
   "cell_type": "code",
   "execution_count": 2,
   "id": "ef6c9751",
   "metadata": {},
   "outputs": [
    {
     "name": "stdout",
     "output_type": "stream",
     "text": [
      "fac(1) = 1\tfac(2) = 2\tfac(3) = 6\tfac(4) = 24\tfac(5) = 120\tfac(6) = 720\tfac(7) = 5040\t"
     ]
    }
   ],
   "source": [
    "def fac(n):\n",
    "    return n*fac(n-1) if n else 1\n",
    "\n",
    "for i in range(1,8):\n",
    "    print(f\"fac({i}) = {fac(i)}\", end=\"\\t\")"
   ]
  },
  {
   "cell_type": "markdown",
   "id": "317b73c4",
   "metadata": {},
   "source": [
    "Ensuite, créons une fonction qui permet de calculer les combinaisons possibles.\\\n",
    "Partons du cas de base où tous les caractères de la chaîne sont uniques:"
   ]
  },
  {
   "cell_type": "code",
   "execution_count": 3,
   "id": "2b105df1",
   "metadata": {
    "scrolled": false
   },
   "outputs": [
    {
     "name": "stdout",
     "output_type": "stream",
     "text": [
      "120\n"
     ]
    }
   ],
   "source": [
    "maCh = \"niche\"\n",
    "nbCombi = fac(len(maCh))\n",
    "print(nbCombi)"
   ]
  },
  {
   "cell_type": "markdown",
   "id": "7772b4c7",
   "metadata": {},
   "source": [
    "Ensuite, divisons ce nombre de combinaisons par les répétitions de chaque caractère présent dans la chaîne. Pour cela, trouvons toutes ces répétitions à l'aide de la fonction count():"
   ]
  },
  {
   "cell_type": "code",
   "execution_count": 4,
   "id": "ff5dcddb",
   "metadata": {
    "scrolled": true
   },
   "outputs": [
    {
     "name": "stdout",
     "output_type": "stream",
     "text": [
      "180.0\n"
     ]
    }
   ],
   "source": [
    "maCh = \"banane\"\n",
    "nbRepetB = maCh.count(\"b\")\n",
    "nbRepetA = maCh.count(\"a\")\n",
    "nbRepetN = maCh.count(\"n\")\n",
    "nbRepetE = maCh.count(\"e\")\n",
    "nbCombi = fac(len(maCh)) / (fac(nbRepetB) * fac(nbRepetA) * fac(nbRepetN) * fac(nbRepetE))\n",
    "print(nbCombi)"
   ]
  },
  {
   "cell_type": "markdown",
   "id": "156895c1",
   "metadata": {},
   "source": [
    "Ne reste plus qu'à généraliser ces calculs pour écrire la fonction:"
   ]
  },
  {
   "cell_type": "code",
   "execution_count": 5,
   "id": "57f28b62",
   "metadata": {},
   "outputs": [
    {
     "name": "stdout",
     "output_type": "stream",
     "text": [
      "120\n",
      "180\n"
     ]
    }
   ],
   "source": [
    "def nb_anagrammes(chaine):\n",
    "    nbCombi = fac(len(chaine))\n",
    "    carUniques = set(chaine)\n",
    "    for char in carUniques:\n",
    "        nbCombi /= chaine.count(char)\n",
    "    return int(nbCombi)\n",
    "\n",
    "print(nb_anagrammes(\"niche\"))\n",
    "print(nb_anagrammes(\"banane\"))"
   ]
  },
  {
   "cell_type": "code",
   "execution_count": 6,
   "id": "055d2d7c",
   "metadata": {},
   "outputs": [
    {
     "name": "stdout",
     "output_type": "stream",
     "text": [
      "120 152\n"
     ]
    }
   ],
   "source": [
    "# Fonction énumérant tous les anagrammes possibles\n",
    "# TODO: expliquer la fonction\n",
    "\n",
    "def get_anagrammes(chaine):\n",
    "    lis1 = [chaine[0]]\n",
    "    lis2 = []\n",
    "    global nb_ope\n",
    "\n",
    "    for i in range(1,len(chaine)):\n",
    "        for w in lis1:\n",
    "            for j in range(len(w)+1):\n",
    "                lis2.append(w[:j] + chaine[i] + w[j:])\n",
    "                nb_ope += 1\n",
    "        lis1, lis2 = list(set(lis2[::])), []\n",
    "            \n",
    "    return lis1\n",
    "\n",
    "nb_ope = 0\n",
    "anag = get_anagrammes(\"niche\")\n",
    "print(len(anag), nb_ope)"
   ]
  },
  {
   "cell_type": "markdown",
   "id": "cd06c1c4",
   "metadata": {},
   "source": [
    "TODO: Pourquoi ça pose problème ?\n",
    "-> complexité factorielle\n",
    "-> beaucoup de chaînes n'ont aucun sens en tant que mot\n",
    "\n",
    "TODO: Comment vérifier si c'est un vrai anagramme ?\n",
    "-> trouver une bibliothèque qui donne tous les mots du dictionnaire\n",
    "-> optimiser le code, notamment lorsqu'on a des mots de 8 lettres ou plus le programme actuel devrait galérer"
   ]
  },
  {
   "cell_type": "code",
   "execution_count": 7,
   "id": "a4f33cb6",
   "metadata": {},
   "outputs": [
    {
     "name": "stdout",
     "output_type": "stream",
     "text": [
      "['acb', 'bca']\n"
     ]
    }
   ],
   "source": [
    "l = [\"ab\",\"ba\"]\n",
    "i = 1\n",
    "c = \"c\"\n",
    "print(list(map(lambda x: x[:i] + c + x[i:], l)))"
   ]
  },
  {
   "cell_type": "code",
   "execution_count": 8,
   "id": "17909bc7",
   "metadata": {
    "scrolled": true
   },
   "outputs": [
    {
     "name": "stdout",
     "output_type": "stream",
     "text": [
      "120 ['heicn', 'ehinc', 'enihc', 'hncei', 'hcnie', 'ehnci', 'inche', 'cnihe', 'cihne', 'hicne', 'ihcen', 'cineh', 'ihcne', 'hcnei', 'ihnce', 'enich', 'echni', 'chein', 'eihnc', 'eicnh', 'cinhe', 'chnei', 'nhcei', 'hecin', 'iecnh', 'hcein', 'ecihn', 'ehnic', 'hienc', 'nehic', 'hncie', 'einch', 'ncehi', 'ihenc', 'ceinh', 'nheci', 'ceihn', 'nchie', 'nhice', 'cnieh', 'hneic', 'ichne', 'nheic', 'inech', 'enhic', 'iench', 'eichn', 'iechn', 'enhci', 'ciehn', 'iehnc', 'hince', 'niehc', 'einhc', 'icnhe', 'chine', 'nehci', 'enchi', 'nceih', 'inehc', 'ecnhi', 'niche', 'ihnec', 'hneci', 'nihec', 'ihecn', 'hicen', 'cnhei', 'hecni', 'cienh', 'cehin', 'hceni', 'heinc', 'nhcie', 'ncihe', 'hcien', 'niceh', 'ehicn', 'nhiec', 'neihc', 'echin', 'chien', 'hcine', 'ecnih', 'cneih', 'eihcn', 'hnice', 'nchei', 'ichen', 'cenhi', 'ecinh', 'chnie', 'ehcni', 'hniec', 'ehcin', 'hinec', 'nihce', 'cheni', 'cihen', 'hiecn', 'icneh', 'henic', 'icehn', 'cnhie', 'encih', 'cehni', 'iehcn', 'nechi', 'inhec', 'henci', 'inceh', 'ncieh', 'niech', 'ienhc', 'neich', 'necih', 'icenh', 'cnehi', 'cenih', 'inhce'] 14\n"
     ]
    }
   ],
   "source": [
    "# Fonction énumérant tous les anagrammes possibles\n",
    "# TODO: expliquer la fonction\n",
    "\n",
    "def get_anagrammes(chaine):\n",
    "    lis1 = [chaine[0]]\n",
    "    lis2 = []\n",
    "    global nb_ope\n",
    "\n",
    "    for i in range(1,len(chaine)):\n",
    "        for j in range(len(lis1[0])+1):\n",
    "            lis2 += list(map(lambda x: x[:j] + chaine[i] + x[j:], lis1))\n",
    "            nb_ope += 1\n",
    "        lis1, lis2 = list(set(lis2[::])), []\n",
    "            \n",
    "    return lis1\n",
    "\n",
    "nb_ope = 0\n",
    "anag = get_anagrammes(\"niche\")\n",
    "print(len(anag), anag, nb_ope)"
   ]
  },
  {
   "cell_type": "code",
   "execution_count": 9,
   "id": "aa1ecbd6",
   "metadata": {},
   "outputs": [],
   "source": [
    "import enchant\n",
    "\n",
    "d = enchant.Dict(\"fr-FR\")\n",
    "\n",
    "anag2 = get_anagrammes(\"aeegmnrrtu\")\n",
    "\n",
    "l = list(filter(lambda x: d.check(x), anag2))\n",
    "\n",
    "#print(l)"
   ]
  },
  {
   "cell_type": "code",
   "execution_count": 10,
   "id": "2112922e",
   "metadata": {
    "scrolled": false
   },
   "outputs": [
    {
     "name": "stdout",
     "output_type": "stream",
     "text": [
      "120 ['heicn', 'ehinc', 'enihc', 'hncei', 'hcnie', 'ehnci', 'inche', 'cnihe', 'cihne', 'hicne', 'ihcen', 'cineh', 'ihcne', 'hcnei', 'ihnce', 'enich', 'echni', 'chein', 'eihnc', 'eicnh', 'cinhe', 'chnei', 'nhcei', 'hecin', 'iecnh', 'hcein', 'ecihn', 'ehnic', 'hienc', 'nehic', 'hncie', 'einch', 'ncehi', 'ihenc', 'ceinh', 'nheci', 'ceihn', 'nchie', 'nhice', 'cnieh', 'hneic', 'ichne', 'nheic', 'inech', 'enhic', 'iench', 'eichn', 'iechn', 'enhci', 'ciehn', 'iehnc', 'hince', 'niehc', 'einhc', 'icnhe', 'chine', 'nehci', 'enchi', 'nceih', 'inehc', 'ecnhi', 'niche', 'ihnec', 'hneci', 'nihec', 'ihecn', 'hicen', 'cnhei', 'hecni', 'cienh', 'cehin', 'hceni', 'heinc', 'nhcie', 'ncihe', 'hcien', 'niceh', 'ehicn', 'nhiec', 'neihc', 'echin', 'chien', 'hcine', 'ecnih', 'cneih', 'eihcn', 'hnice', 'nchei', 'ichen', 'cenhi', 'ecinh', 'chnie', 'ehcni', 'hniec', 'ehcin', 'hinec', 'nihce', 'cheni', 'cihen', 'hiecn', 'icneh', 'henic', 'icehn', 'cnhie', 'encih', 'cehni', 'iehcn', 'nechi', 'inhec', 'henci', 'inceh', 'ncieh', 'niech', 'ienhc', 'neich', 'necih', 'icenh', 'cnehi', 'cenih', 'inhce']\n"
     ]
    }
   ],
   "source": [
    "def get_anagrams(chaine):\n",
    "    lis1 = [chaine[0]]\n",
    "    lis2 = []\n",
    "\n",
    "    for i in range(1,len(chaine)):\n",
    "        for j in range(len(lis1[0])+1):\n",
    "            lis2 += list(map(lambda x: x[:j] + chaine[i] + x[j:], lis1))\n",
    "        lis1, lis2 = list(set(lis2[::])), []\n",
    "\n",
    "    return lis1\n",
    "\n",
    "\n",
    "anag = get_anagrams(\"niche\")\n",
    "print(len(anag), anag)"
   ]
  },
  {
   "cell_type": "code",
   "execution_count": 12,
   "id": "9699b6ea",
   "metadata": {},
   "outputs": [
    {
     "name": "stdout",
     "output_type": "stream",
     "text": [
      "0.0018768310546875\n",
      "['agent', 'gante']\n",
      "0.004256010055541992\n",
      "['banane', 'banna', 'benna', 'banne']\n"
     ]
    }
   ],
   "source": [
    "import enchant\n",
    "import time\n",
    "\n",
    "d = enchant.Dict(\"fr-FR\")\n",
    "\n",
    "def check_anag(liste, chaine):\n",
    "    word_list = liste[::]\n",
    "    res = []\n",
    "    for i in range(len(word_list[0])-1, 1, -1):\n",
    "        res += list(filter(lambda x: d.check(x), word_list))\n",
    "        #print(\"-----\")\n",
    "        #print(\"avant:\", len(word_list))\n",
    "        word_list = list(set(map(lambda x: x[:i], word_list)))\n",
    "        if res and not(len(res) == 1 and res[0] == chaine):\n",
    "            #print()\n",
    "            return res\n",
    "        #print(\"après:\", len(word_list))\n",
    "    return res\n",
    "\n",
    "mot = \"geant\"\n",
    "start = time.time()\n",
    "res = check_anag(get_anagrams(mot), mot)\n",
    "print(time.time()-start)\n",
    "print(res)\n",
    "\n",
    "mot = \"banane\"\n",
    "start = time.time()\n",
    "res = check_anag(get_anagrams(mot), mot)\n",
    "print(time.time()-start)\n",
    "print(res)"
   ]
  },
  {
   "cell_type": "code",
   "execution_count": 13,
   "id": "154d7509",
   "metadata": {
    "scrolled": true
   },
   "outputs": [
    {
     "data": {
      "text/plain": [
       "907200"
      ]
     },
     "execution_count": 13,
     "metadata": {},
     "output_type": "execute_result"
    }
   ],
   "source": [
    "fac(10)//fac(2)//fac(2)"
   ]
  },
  {
   "cell_type": "code",
   "execution_count": 14,
   "id": "964728b0",
   "metadata": {},
   "outputs": [
    {
     "data": {
      "text/plain": [
       "604800"
      ]
     },
     "execution_count": 14,
     "metadata": {},
     "output_type": "execute_result"
    }
   ],
   "source": [
    "fac(10)//fac(3)//fac(1)"
   ]
  },
  {
   "cell_type": "code",
   "execution_count": null,
   "id": "f7864c7e",
   "metadata": {},
   "outputs": [],
   "source": []
  }
 ],
 "metadata": {
  "kernelspec": {
   "display_name": "Python 3 (ipykernel)",
   "language": "python",
   "name": "python3"
  },
  "language_info": {
   "codemirror_mode": {
    "name": "ipython",
    "version": 3
   },
   "file_extension": ".py",
   "mimetype": "text/x-python",
   "name": "python",
   "nbconvert_exporter": "python",
   "pygments_lexer": "ipython3",
   "version": "3.9.16"
  }
 },
 "nbformat": 4,
 "nbformat_minor": 5
}
